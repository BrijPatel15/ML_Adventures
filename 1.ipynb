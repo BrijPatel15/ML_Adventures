{
  "nbformat": 4,
  "nbformat_minor": 0,
  "metadata": {
    "colab": {
      "name": "BrijPatel_101008373_SYSC4906_Assig1.ipynb",
      "provenance": [],
      "collapsed_sections": [],
      "include_colab_link": true
    },
    "kernelspec": {
      "name": "python3",
      "display_name": "Python 3"
    }
  },
  "cells": [
    {
      "cell_type": "markdown",
      "metadata": {
        "id": "view-in-github",
        "colab_type": "text"
      },
      "source": [
        "<a href=\"https://colab.research.google.com/github/BrijPatel15/ML_Adventures/blob/master/1.ipynb\" target=\"_parent\"><img src=\"https://colab.research.google.com/assets/colab-badge.svg\" alt=\"Open In Colab\"/></a>"
      ]
    },
    {
      "cell_type": "markdown",
      "metadata": {
        "id": "jDOT_bqlnuaL",
        "colab_type": "text"
      },
      "source": [
        "# SYSC4906 Introduction to Machine Learning\n",
        "## Assignment 1\n",
        "|**Student name** | **Student number**|\n",
        "|-----------------|-------------------|\n",
        "| Brij Patel      | 101008373         |"
      ]
    },
    {
      "cell_type": "markdown",
      "metadata": {
        "id": "hq842SciP6bK",
        "colab_type": "text"
      },
      "source": [
        "# Question 1\n",
        "Calculate the gradient of the following function: \n",
        "$$ f(x,z) \\stackrel{\\text{def}}{=} \\sqrt{5x^3 + z^2 + 4xz + 11x + 5} $$\n"
      ]
    },
    {
      "cell_type": "markdown",
      "metadata": {
        "id": "rXV6T_R8QM4l",
        "colab_type": "text"
      },
      "source": [
        "$$\\frac{\\partial f\\left (x,z \\right)}{\\partial x} = \\frac{\\partial}{\\partial u} \\left ( \\sqrt u\\right ) + \\frac{\\partial}{\\partial x} \\left ( 5x^3 + z^2 + 4xz + 11x + 5 \\right )$$\n",
        "\n",
        "$$\\frac{\\partial f\\left (x,z \\right)}{\\partial x} = \\frac{1}{2\\sqrt u} + \\left (15x^{2} + 4y + 11 \\right) $$\n",
        "\n",
        "$$\\frac{\\partial f\\left (x,z \\right)}{\\partial x} = \\frac{1}{2\\sqrt{5x^3 + z^2 + 4xz + 11x + 5}} + \\left (15x^{2} + 4y + 11 \\right) $$\n",
        "\n",
        "$$\\frac{\\partial f\\left (x,z \\right)}{\\partial z} =  \\frac{\\partial}{\\partial u} \\left ( \\sqrt u\\right ) + \\frac{\\partial}{\\partial z} \\left ( 5x^3 + z^2 + 4xz + 11x + 5 \\right )$$\n",
        "\n",
        "$$\\frac{\\partial f\\left (x,z \\right)}{\\partial z} = \\frac{1}{2\\sqrt u} + \\left (2z+4x\\right) $$\n",
        "\n",
        "$$\\frac{\\partial f\\left (x,z \\right)}{\\partial z} = \\frac{1}{2\\sqrt{5x^3 + z^2 + 4xz + 11x + 5}} + \\left (2z+4x \\right) $$\n"
      ]
    },
    {
      "cell_type": "markdown",
      "metadata": {
        "id": "F476OY19yL8C",
        "colab_type": "text"
      },
      "source": [
        "#Question 2\n",
        "\n",
        "Create a python notebook which loads the sklearn breast cancer dataset (see sklearn.datasets.load_breast_cancer). This dataset has 2 classes of breast tumor: malignant and benign. There are 596 samples (212 malignant, 257 benign) and 30 features. \n",
        "1. Split the data, using 75% for training and 25% for test. Make sure you use stratified sampling. \n",
        "2. Train and test a logistic regression classifier. How accurate is your classifier?\n",
        "3. Create two subplots using the first two features from the data set. \n",
        "    \n",
        "    i)  On the first, plot the decision boundary and the training data. Use green for malignant and blue for benign.\n",
        "    \n",
        "    ii) On the second, plot the decision boundary and the test data. Use the same colours (blue/green), but highlight all misclassified test points (from either class) in red.\n",
        "\n"
      ]
    },
    {
      "cell_type": "code",
      "metadata": {
        "id": "d1-XuzEdo4ts",
        "colab_type": "code",
        "colab": {}
      },
      "source": [
        "# Load libraries...\n",
        "from sklearn.model_selection import train_test_split\n",
        "from sklearn.datasets import load_breast_cancer\n",
        "from sklearn.linear_model import LogisticRegression\n",
        "import numpy as np\n",
        "import matplotlib.pyplot as plt\n",
        "from matplotlib.colors import ListedColormap"
      ],
      "execution_count": 0,
      "outputs": []
    },
    {
      "cell_type": "markdown",
      "metadata": {
        "id": "eCZnsSnbybUQ",
        "colab_type": "text"
      },
      "source": [
        "## Q2.1 Create the dataset\n",
        "\n",
        "The first step is loading the breast cancer data. We will then split off the test data to be used for all training sets. Then create each training set, using **stratified sampling**\n",
        "\n",
        "load_breast_cancer returns a Dictionary-like object, the interesting attributes are: \n",
        "* ‘data’, the data to learn, \n",
        "* ‘target’, the classification labels, \n",
        "* ‘target_names’, the meaning of the labels, \n",
        "* ‘feature_names’, the meaning of the features, and \n",
        "* ‘DESCR’, the full description of the dataset,"
      ]
    },
    {
      "cell_type": "code",
      "metadata": {
        "id": "3id7ezjlsn-J",
        "colab_type": "code",
        "colab": {
          "base_uri": "https://localhost:8080/",
          "height": 436
        },
        "outputId": "c3c0df45-8f54-4631-fcd3-103a03f35896"
      },
      "source": [
        "# Load the breast cancer dataset\n",
        "bcData = load_breast_cancer()\n",
        "X_train, X_test, y_train, y_test = train_test_split(bcData.data, bcData.target, test_size=.25) # handy function\n",
        "logisticRegr = LogisticRegression()\n",
        "logisticRegr.fit(X_train, y_train)\n",
        "predictions = logisticRegr.predict(X_test)\n",
        "score = logisticRegr.score(X_test, y_test)\n",
        "print(score)\n",
        "\n",
        "plt.figure(figsize= (12,12))\n",
        "plt.subplot(2, 2, 2)\n",
        "plt.scatter(bcData.data[0:,0], bcData.data[0:,1], c=bcData.target)\n",
        "\n"
      ],
      "execution_count": 22,
      "outputs": [
        {
          "output_type": "stream",
          "text": [
            "0.958041958041958\n"
          ],
          "name": "stdout"
        },
        {
          "output_type": "stream",
          "text": [
            "/usr/local/lib/python3.6/dist-packages/sklearn/linear_model/logistic.py:432: FutureWarning: Default solver will be changed to 'lbfgs' in 0.22. Specify a solver to silence this warning.\n",
            "  FutureWarning)\n"
          ],
          "name": "stderr"
        },
        {
          "output_type": "execute_result",
          "data": {
            "text/plain": [
              "<matplotlib.collections.PathCollection at 0x7f0520c8a240>"
            ]
          },
          "metadata": {
            "tags": []
          },
          "execution_count": 22
        },
        {
          "output_type": "display_data",
          "data": {
            "image/png": "[encoded data removed]",
            "text/plain": [
              "<Figure size 864x864 with 1 Axes>"
            ]
          },
          "metadata": {
            "tags": []
          }
        }
      ]
    },
    {
      "cell_type": "markdown",
      "metadata": {
        "id": "E5UPspGuGNga",
        "colab_type": "text"
      },
      "source": [
        "# Question 3\n",
        "\n",
        "Linear regression. Download the file “Assig1Q3.csv” from CULearn under “Assignments”. The first column represents the X values, while the second column represents the Y values.\n",
        "* Plot the data\n",
        "\n",
        "We are going to use linear regression to fit a linear and a quadratic model to these data. Without using sklearn.linear_model (or any other linear regression libraries), write your own python code to implement the least squares solution for linear regression. That is:\n",
        "$$\\beta=(X^TX)^{−1}X^Ty$$\n",
        "\n",
        "* Assuming the model , use your code to best-fit the parameters m and b to the data. Report your optimal parameter values. \n",
        "*Hints: \n",
        "    * recall that you must create the ‘augmented’ feature vector X from the given x data (add a column of 1’s). \n",
        "    * look at numpy.T(), numpy.matmul(), numpy.dot(), and numpy.linalg.inv()\n",
        "* Plot your line of best fit on top of the data\n",
        "* Calculate the sum of square residuals, or mean squared error, as in:\n",
        "$$MSE(\\beta) = \\sum_{i=1}^{N}{(y−X\\beta)^2}$$\n",
        "* Assuming the model , repeat steps 2-4 using this new model (i.e. estimate the optimal values for a,b,c; report those estimates; plot the line of best fit; report the MSE).\n",
        "* Briefly discuss which model would you prefer for these data?\n",
        "* Why is best-fitting the second (quadratic) model still considered linear regression?\n",
        "\n"
      ]
    },
    {
      "cell_type": "markdown",
      "metadata": {
        "id": "6EnFpwBiY5i4",
        "colab_type": "text"
      },
      "source": [
        "## Step 1: Load the CSV file and best-fit a linear model using the solution derived in class"
      ]
    },
    {
      "cell_type": "code",
      "metadata": {
        "id": "VVGXLK2HZCQ6",
        "colab_type": "code",
        "colab": {
          "base_uri": "https://localhost:8080/",
          "height": 204
        },
        "outputId": "38b3d311-bf6b-4eb4-aee8-2c9b43536a90"
      },
      "source": [
        "import pandas as pd\n",
        "data = pd.read_csv('https://github.com/jrgreen7/SYSC4906/raw/master/Assignments/Assignment1/Assig1Q3.csv',header=None)\n",
        "X = data[0]\n",
        "Y = data[1]\n",
        "x_mean = np.mean(X)\n",
        "y_mean = np.mean(Y)\n",
        "\n",
        "n = len(X)\n",
        "\n"
      ],
      "execution_count": 27,
      "outputs": [
        {
          "output_type": "execute_result",
          "data": {
            "text/html": [
              "<div>\n",
              "<style scoped>\n",
              "    .dataframe tbody tr th:only-of-type {\n",
              "        vertical-align: middle;\n",
              "    }\n",
              "\n",
              "    .dataframe tbody tr th {\n",
              "        vertical-align: top;\n",
              "    }\n",
              "\n",
              "    .dataframe thead th {\n",
              "        text-align: right;\n",
              "    }\n",
              "</style>\n",
              "<table border=\"1\" class=\"dataframe\">\n",
              "  <thead>\n",
              "    <tr style=\"text-align: right;\">\n",
              "      <th></th>\n",
              "      <th>0</th>\n",
              "      <th>1</th>\n",
              "    </tr>\n",
              "  </thead>\n",
              "  <tbody>\n",
              "    <tr>\n",
              "      <th>0</th>\n",
              "      <td>-0.192015</td>\n",
              "      <td>-6.061625</td>\n",
              "    </tr>\n",
              "    <tr>\n",
              "      <th>1</th>\n",
              "      <td>-1.422221</td>\n",
              "      <td>-3.454190</td>\n",
              "    </tr>\n",
              "    <tr>\n",
              "      <th>2</th>\n",
              "      <td>0.148987</td>\n",
              "      <td>-5.208040</td>\n",
              "    </tr>\n",
              "    <tr>\n",
              "      <th>3</th>\n",
              "      <td>-0.194033</td>\n",
              "      <td>-6.144661</td>\n",
              "    </tr>\n",
              "    <tr>\n",
              "      <th>4</th>\n",
              "      <td>-0.238897</td>\n",
              "      <td>-6.024537</td>\n",
              "    </tr>\n",
              "  </tbody>\n",
              "</table>\n",
              "</div>"
            ],
            "text/plain": [
              "          0         1\n",
              "0 -0.192015 -6.061625\n",
              "1 -1.422221 -3.454190\n",
              "2  0.148987 -5.208040\n",
              "3 -0.194033 -6.144661\n",
              "4 -0.238897 -6.024537"
            ]
          },
          "metadata": {
            "tags": []
          },
          "execution_count": 27
        }
      ]
    },
    {
      "cell_type": "markdown",
      "metadata": {
        "id": "L-EMZyfAb89b",
        "colab_type": "text"
      },
      "source": [
        "## Step 2: Linear model y=mx+b"
      ]
    },
    {
      "cell_type": "code",
      "metadata": {
        "id": "qVf8TwYMbx70",
        "colab_type": "code",
        "colab": {}
      },
      "source": [
        "# Augment the x vector\n",
        "\n",
        "# Compute beta\n",
        "\n",
        "\n",
        "# Compute the MSE\n",
        "\n",
        "print(\"MSE =\", MSE)"
      ],
      "execution_count": 0,
      "outputs": []
    },
    {
      "cell_type": "markdown",
      "metadata": {
        "colab_type": "text",
        "id": "RRN5Hhncge8y"
      },
      "source": [
        "## Step3: Quadratic model y=ax^2+bx+c"
      ]
    },
    {
      "cell_type": "code",
      "metadata": {
        "colab_type": "code",
        "id": "rZWNuz5tge80",
        "colab": {}
      },
      "source": [
        "# Augment the x vector\n",
        "\n",
        "# Compute beta\n",
        "\n",
        "# Compute the MSE\n",
        "\n",
        "print(\"MSE =\", MSE)"
      ],
      "execution_count": 0,
      "outputs": []
    },
    {
      "cell_type": "markdown",
      "metadata": {
        "id": "NQMvagUYykXa",
        "colab_type": "text"
      },
      "source": [
        "# Question 4\n",
        "\n",
        "- Create a Jupyter Notebook based on Lecture5.ipynb to use make_classification to create a linearly separable dataset, with 2 classes, 2 informative features, 1000 samples per class, using a class_sep=2.0, and a random_state of 3. \n",
        "- Generate some random noise of the same shape as your feature data, drawn from a standard normal distribution (see numpy.random) and a random_state of 2. \n",
        "- Create four datasets: \n",
        "    1. no noise, \n",
        "    2. data + 0.5 * noise, \n",
        "    3. data + 1.0 * noise, \n",
        "    4. data + 2.0 * noise. \n",
        "- i) For all four datasets, plot the data, labelling each (sub)plot by the degree of noise added (i.e. 0, 0.5, 1.0, and 2.0)\n",
        "- ii) For each dataset, create training and test data using a 70/30 train/test split (see train_test_split).\n",
        "- iii) For each dataset, train and test an SVM classifier with a polynomial kernel with degree=2, and C=1.0. Report the test score for each. How does prediction accuracy change with noise level?\n",
        "- iv) For a noise level of 0.5, train and test SVM classifiers using the following values for C: {0.001, 0.01, 0.1, 1, 10, 100}. \n",
        "   - Report the test accuracy for each. \n",
        "   - How does performance vary with C?\n",
        "   - Briefly describe what the C controls for sklearn.svc. *Hint: look at the documentation for sklearn.svc rather than the class notes here...*\n"
      ]
    },
    {
      "cell_type": "code",
      "metadata": {
        "id": "gYZYt5NmSvzm",
        "colab_type": "code",
        "colab": {}
      },
      "source": [
        "# Load the required libraries...\n"
      ],
      "execution_count": 0,
      "outputs": []
    }
  ]
}